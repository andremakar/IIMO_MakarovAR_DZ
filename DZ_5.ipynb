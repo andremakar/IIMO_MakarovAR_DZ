{
 "cells": [
  {
   "cell_type": "code",
   "execution_count": 1,
   "id": "812ab237",
   "metadata": {},
   "outputs": [],
   "source": [
    "import pandas as pd\n",
    "import seaborn as sns\n",
    "import matplotlib.pyplot as plt\n",
    "import numpy as np\n",
    "from sklearn.linear_model import LinearRegression"
   ]
  },
  {
   "cell_type": "code",
   "execution_count": 2,
   "id": "6400464a",
   "metadata": {},
   "outputs": [],
   "source": [
    "iris_set = sns.load_dataset(\"iris\")"
   ]
  },
  {
   "cell_type": "code",
   "execution_count": 3,
   "id": "20f78094",
   "metadata": {},
   "outputs": [
    {
     "data": {
      "text/html": [
       "<div>\n",
       "<style scoped>\n",
       "    .dataframe tbody tr th:only-of-type {\n",
       "        vertical-align: middle;\n",
       "    }\n",
       "\n",
       "    .dataframe tbody tr th {\n",
       "        vertical-align: top;\n",
       "    }\n",
       "\n",
       "    .dataframe thead th {\n",
       "        text-align: right;\n",
       "    }\n",
       "</style>\n",
       "<table border=\"1\" class=\"dataframe\">\n",
       "  <thead>\n",
       "    <tr style=\"text-align: right;\">\n",
       "      <th></th>\n",
       "      <th>setosa</th>\n",
       "      <th>versicolor</th>\n",
       "      <th>virginica</th>\n",
       "    </tr>\n",
       "  </thead>\n",
       "  <tbody>\n",
       "    <tr>\n",
       "      <th>sepal_length</th>\n",
       "      <td>5.006</td>\n",
       "      <td>5.936</td>\n",
       "      <td>6.588</td>\n",
       "    </tr>\n",
       "    <tr>\n",
       "      <th>sepal_width</th>\n",
       "      <td>3.428</td>\n",
       "      <td>2.770</td>\n",
       "      <td>2.974</td>\n",
       "    </tr>\n",
       "    <tr>\n",
       "      <th>petal_length</th>\n",
       "      <td>1.462</td>\n",
       "      <td>4.260</td>\n",
       "      <td>5.552</td>\n",
       "    </tr>\n",
       "    <tr>\n",
       "      <th>petal_width</th>\n",
       "      <td>0.246</td>\n",
       "      <td>1.326</td>\n",
       "      <td>2.026</td>\n",
       "    </tr>\n",
       "  </tbody>\n",
       "</table>\n",
       "</div>"
      ],
      "text/plain": [
       "              setosa  versicolor  virginica\n",
       "sepal_length   5.006       5.936      6.588\n",
       "sepal_width    3.428       2.770      2.974\n",
       "petal_length   1.462       4.260      5.552\n",
       "petal_width    0.246       1.326      2.026"
      ]
     },
     "execution_count": 3,
     "metadata": {},
     "output_type": "execute_result"
    }
   ],
   "source": [
    "class_feature_means = pd.DataFrame()\n",
    "for c, rows in iris_set.groupby('species'):\n",
    "    class_feature_means[c] = rows.mean()\n",
    "class_feature_means"
   ]
  },
  {
   "cell_type": "code",
   "execution_count": 4,
   "id": "a457f962",
   "metadata": {},
   "outputs": [
    {
     "data": {
      "image/png": "[encoded data removed]",
      "text/plain": [
       "<Figure size 432x288 with 1 Axes>"
      ]
     },
     "metadata": {
      "needs_background": "light"
     },
     "output_type": "display_data"
    }
   ],
   "source": [
    "axes = plt.axes()\n",
    "axes.set_xlim([4, 8])         \n",
    "axes.set_ylim([0, 8])          \n",
    "legend = []\n",
    "plt.title('Линейная регрессия - Ирисы Фишера')\n",
    "x_lable='sepal_length'\n",
    "y_lable='petal_length'\n",
    "axes.set_xlabel(x_lable)             \n",
    "axes.set_ylabel(y_lable)  \n",
    "for c, rows in iris_set.groupby('species'):\n",
    "    plt.scatter(rows[x_lable], rows[y_lable])\n",
    "    legend.append(\"species=%s\" % c)\n",
    "plt.legend(legend, loc=\"upper left\")\n",
    "plt.grid()\n",
    "plt.show()"
   ]
  },
  {
   "cell_type": "code",
   "execution_count": 5,
   "id": "57d6828a",
   "metadata": {},
   "outputs": [
    {
     "data": {
      "text/html": [
       "<div>\n",
       "<style scoped>\n",
       "    .dataframe tbody tr th:only-of-type {\n",
       "        vertical-align: middle;\n",
       "    }\n",
       "\n",
       "    .dataframe tbody tr th {\n",
       "        vertical-align: top;\n",
       "    }\n",
       "\n",
       "    .dataframe thead th {\n",
       "        text-align: right;\n",
       "    }\n",
       "</style>\n",
       "<table border=\"1\" class=\"dataframe\">\n",
       "  <thead>\n",
       "    <tr style=\"text-align: right;\">\n",
       "      <th></th>\n",
       "      <th>sepal_length</th>\n",
       "      <th>sepal_width</th>\n",
       "      <th>petal_length</th>\n",
       "      <th>petal_width</th>\n",
       "      <th>species</th>\n",
       "    </tr>\n",
       "  </thead>\n",
       "  <tbody>\n",
       "    <tr>\n",
       "      <th>0</th>\n",
       "      <td>5.1</td>\n",
       "      <td>3.5</td>\n",
       "      <td>1.4</td>\n",
       "      <td>0.2</td>\n",
       "      <td>setosa</td>\n",
       "    </tr>\n",
       "    <tr>\n",
       "      <th>1</th>\n",
       "      <td>4.9</td>\n",
       "      <td>3.0</td>\n",
       "      <td>1.4</td>\n",
       "      <td>0.2</td>\n",
       "      <td>setosa</td>\n",
       "    </tr>\n",
       "    <tr>\n",
       "      <th>2</th>\n",
       "      <td>4.7</td>\n",
       "      <td>3.2</td>\n",
       "      <td>1.3</td>\n",
       "      <td>0.2</td>\n",
       "      <td>setosa</td>\n",
       "    </tr>\n",
       "    <tr>\n",
       "      <th>3</th>\n",
       "      <td>4.6</td>\n",
       "      <td>3.1</td>\n",
       "      <td>1.5</td>\n",
       "      <td>0.2</td>\n",
       "      <td>setosa</td>\n",
       "    </tr>\n",
       "    <tr>\n",
       "      <th>4</th>\n",
       "      <td>5.0</td>\n",
       "      <td>3.6</td>\n",
       "      <td>1.4</td>\n",
       "      <td>0.2</td>\n",
       "      <td>setosa</td>\n",
       "    </tr>\n",
       "    <tr>\n",
       "      <th>...</th>\n",
       "      <td>...</td>\n",
       "      <td>...</td>\n",
       "      <td>...</td>\n",
       "      <td>...</td>\n",
       "      <td>...</td>\n",
       "    </tr>\n",
       "    <tr>\n",
       "      <th>145</th>\n",
       "      <td>6.7</td>\n",
       "      <td>3.0</td>\n",
       "      <td>5.2</td>\n",
       "      <td>2.3</td>\n",
       "      <td>virginica</td>\n",
       "    </tr>\n",
       "    <tr>\n",
       "      <th>146</th>\n",
       "      <td>6.3</td>\n",
       "      <td>2.5</td>\n",
       "      <td>5.0</td>\n",
       "      <td>1.9</td>\n",
       "      <td>virginica</td>\n",
       "    </tr>\n",
       "    <tr>\n",
       "      <th>147</th>\n",
       "      <td>6.5</td>\n",
       "      <td>3.0</td>\n",
       "      <td>5.2</td>\n",
       "      <td>2.0</td>\n",
       "      <td>virginica</td>\n",
       "    </tr>\n",
       "    <tr>\n",
       "      <th>148</th>\n",
       "      <td>6.2</td>\n",
       "      <td>3.4</td>\n",
       "      <td>5.4</td>\n",
       "      <td>2.3</td>\n",
       "      <td>virginica</td>\n",
       "    </tr>\n",
       "    <tr>\n",
       "      <th>149</th>\n",
       "      <td>5.9</td>\n",
       "      <td>3.0</td>\n",
       "      <td>5.1</td>\n",
       "      <td>1.8</td>\n",
       "      <td>virginica</td>\n",
       "    </tr>\n",
       "  </tbody>\n",
       "</table>\n",
       "<p>150 rows × 5 columns</p>\n",
       "</div>"
      ],
      "text/plain": [
       "     sepal_length  sepal_width  petal_length  petal_width    species\n",
       "0             5.1          3.5           1.4          0.2     setosa\n",
       "1             4.9          3.0           1.4          0.2     setosa\n",
       "2             4.7          3.2           1.3          0.2     setosa\n",
       "3             4.6          3.1           1.5          0.2     setosa\n",
       "4             5.0          3.6           1.4          0.2     setosa\n",
       "..            ...          ...           ...          ...        ...\n",
       "145           6.7          3.0           5.2          2.3  virginica\n",
       "146           6.3          2.5           5.0          1.9  virginica\n",
       "147           6.5          3.0           5.2          2.0  virginica\n",
       "148           6.2          3.4           5.4          2.3  virginica\n",
       "149           5.9          3.0           5.1          1.8  virginica\n",
       "\n",
       "[150 rows x 5 columns]"
      ]
     },
     "execution_count": 5,
     "metadata": {},
     "output_type": "execute_result"
    }
   ],
   "source": [
    "iris_set"
   ]
  },
  {
   "cell_type": "code",
   "execution_count": 6,
   "id": "596b18ec",
   "metadata": {},
   "outputs": [],
   "source": [
    "iris_set = iris_set.drop(['sepal_width', 'petal_width'], axis=1)"
   ]
  },
  {
   "cell_type": "code",
   "execution_count": 7,
   "id": "1d466e5f",
   "metadata": {},
   "outputs": [],
   "source": [
    "seto = np.array(iris_set[iris_set.species == 'setosa'])\n",
    "vers = np.array(iris_set[iris_set.species == 'versicolor'])"
   ]
  },
  {
   "cell_type": "code",
   "execution_count": 8,
   "id": "24ac0afb",
   "metadata": {},
   "outputs": [],
   "source": [
    "setosa = [[],[]]\n",
    "for i in seto:\n",
    "    setosa[0].append(i[0])\n",
    "    setosa[1].append(i[1])\n",
    "versicolor = [[],[]]\n",
    "for i in vers:\n",
    "    versicolor[0].append(i[0])\n",
    "    versicolor[1].append(i[1])"
   ]
  },
  {
   "cell_type": "code",
   "execution_count": 9,
   "id": "e6b62d6c",
   "metadata": {},
   "outputs": [],
   "source": [
    "mean_setosa = np.mean(setosa, axis=1).reshape(2,1)\n",
    "mean_versicolor = np.mean(versicolor, axis=1).reshape(2,1)"
   ]
  },
  {
   "cell_type": "code",
   "execution_count": 10,
   "id": "9cdb7b42",
   "metadata": {},
   "outputs": [],
   "source": [
    "scatter_setosa = np.dot((setosa-mean_setosa),(setosa-mean_setosa).T)\n",
    "scatter_versicolor = np.dot((versicolor-mean_versicolor),(versicolor-mean_versicolor).T)"
   ]
  },
  {
   "cell_type": "code",
   "execution_count": 11,
   "id": "efa3d0fe",
   "metadata": {},
   "outputs": [],
   "source": [
    "SW = scatter_setosa+scatter_versicolor\n",
    "SW1=np.linalg.inv(SW)\n",
    "w = np.dot(SW1, mean_setosa - mean_versicolor)"
   ]
  },
  {
   "cell_type": "code",
   "execution_count": 12,
   "id": "23c9c0d9",
   "metadata": {},
   "outputs": [
    {
     "name": "stdout",
     "output_type": "stream",
     "text": [
      "[[ 0.11335687]\n",
      " [-0.31751601]]\n"
     ]
    },
    {
     "data": {
      "image/png": "[encoded data removed]",
      "text/plain": [
       "<Figure size 432x288 with 1 Axes>"
      ]
     },
     "metadata": {
      "needs_background": "light"
     },
     "output_type": "display_data"
    }
   ],
   "source": [
    "#Plot the data\n",
    "\n",
    "fig, ax = plt.subplots()\n",
    "\n",
    "ax.scatter(setosa[0],setosa[1],marker='s',c='grey',edgecolor='black')\n",
    "ax.scatter(versicolor[0],versicolor[1],marker='^',c='yellow',edgecolor='black')\n",
    "\n",
    "ax.scatter(mean_setosa[0],mean_setosa[1],marker='x',c='red',edgecolor='black')\n",
    "ax.scatter(mean_versicolor[0],mean_versicolor[1],marker='x',c='red',edgecolor='black')\n",
    "\n",
    "ax.plot((mean_setosa[0],mean_versicolor[0]), (mean_setosa[1],mean_versicolor[1] ))\n",
    "\n",
    "mean=(mean_setosa+mean_versicolor)/2\n",
    "mean1=mean+w/2\n",
    "mean2=mean-w/2\n",
    "ax.scatter(mean[0],mean[1],marker='x',c='red',edgecolor='black')\n",
    "ax.plot((mean1[0],mean2[0]), (mean1[1],mean2[1] ), c='red' )\n",
    "\n",
    "c=-w[0]/w[1]\n",
    "u=np.array([1,c[0]]).reshape(2,1)\n",
    "mean1=mean+u/2\n",
    "mean2=mean-u/2\n",
    "ax.plot((mean1[0],mean2[0]), (mean1[1],mean2[1] ), c='black' )\n",
    "\n",
    "print(w)\n",
    "plt.show()\n"
   ]
  }
 ],
 "metadata": {
  "kernelspec": {
   "display_name": "Python 3",
   "language": "python",
   "name": "python3"
  },
  "language_info": {
   "codemirror_mode": {
    "name": "ipython",
    "version": 3
   },
   "file_extension": ".py",
   "mimetype": "text/x-python",
   "name": "python",
   "nbconvert_exporter": "python",
   "pygments_lexer": "ipython3",
   "version": "3.8.8"
  }
 },
 "nbformat": 4,
 "nbformat_minor": 5
}
